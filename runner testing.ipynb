{
 "cells": [
  {
   "cell_type": "code",
   "execution_count": 57,
   "metadata": {
    "ExecuteTime": {
     "end_time": "2017-06-01T04:07:30.994594Z",
     "start_time": "2017-06-01T04:07:30.972515Z"
    }
   },
   "outputs": [
    {
     "name": "stdout",
     "output_type": "stream",
     "text": [
      "Overwriting new_experiment_test.yaml\n"
     ]
    }
   ],
   "source": [
    "%%writefile new_experiment_test.yaml\n",
    "\n",
    "results_dir_prefix: 'experiments/'\n",
    "\n",
    "data_setup:\n",
    "    setup_file: \"data_setup.py\"\n",
    "    setup_config:\n",
    "        data_dir: \"data/multinli_0.9/\"\n",
    "        matched: True\n",
    "        genres: [ 'government' ]\n",
    "        drop_confused: True\n",
    "        lowercase: True\n",
    "        pretrained_vectors: \"data/word_vectors/glove.6B.300d.txt\"\n",
    "        normalize_vectors: True\n",
    "        \n",
    "model_setup:\n",
    "    setup_file: \"models/model_setup_example.py\"\n",
    "    setup_config:\n",
    "        mlp_sizes: [ 1000, 600, 300, 3 ]\n",
    "        \n",
    "trainer_setup:\n",
    "    setup_file: \"trainer_setup.py\"\n",
    "    setup_config:\n",
    "        batch_size: 256\n",
    "        max_examples: 'all'\n",
    "        adam_alpha: .001\n",
    "        n_epoch: 10\n",
    "        evaluation_trigger: [ 50, 'iteration']\n",
    "        checkpoint_trigger: [ 50, 'iteration']    "
   ]
  },
  {
   "cell_type": "code",
   "execution_count": 56,
   "metadata": {
    "ExecuteTime": {
     "end_time": "2017-05-31T21:18:32.154023Z",
     "start_time": "2017-05-31T21:15:17.903365Z"
    }
   },
   "outputs": [
    {
     "name": "stdout",
     "output_type": "stream",
     "text": [
      "[INFO] 2017-05-31 17:15:18,821: __main__: Loading dataset\n",
      "[INFO] 2017-05-31 17:15:26,534: root: Loading Training Data...\n",
      "[INFO] 2017-05-31 17:15:43,212: root: Loading Matched Dev Data...\n",
      "[INFO] 2017-05-31 17:15:43,619: root: Data Loaded\n",
      "[INFO] 2017-05-31 17:15:43,619: data_setup: 77350 training examples, 1945 dev examples\n",
      "Pretrained coverage: 21967/27285 = 80.51%\n",
      "[INFO] 2017-05-31 17:16:15,243: __main__: Setting up models\n",
      "[INFO] 2017-05-31 17:16:15,363: __main__: Setting up training\n",
      "[INFO] 2017-05-31 17:16:15,364: sh.command: <Command u'/usr/local/bin/git commit -a -m \"auto commit tracked files for new experiment: experiments/May-31-2017-17:16:363719_experiment\" --allow-empty'>: starting process\n",
      "[INFO] 2017-05-31 17:16:15,372: sh.command: <Command u'/usr/local/bin/git commit -a -m \"auto commit tracked files for new experiment: experiments/May-31-2017-17:16:363719_experiment\" --allow-empty', pid 16142>: process started\n",
      "[INFO] 2017-05-31 17:16:15,414: sh.command: <Command u'/usr/local/bin/git commit -a -m \"auto commit tracked files for new experiment: experiments/May-31-2017-17:16:363719_experiment\" --allow-empty', pid 16142>: process completed\n",
      "[INFO] 2017-05-31 17:16:15,415: sh.command: <Command u'/usr/local/bin/git rev-parse HEAD'>: starting process\n",
      "[INFO] 2017-05-31 17:16:15,421: sh.command: <Command u'/usr/local/bin/git rev-parse HEAD', pid 16143>: process started\n",
      "[INFO] 2017-05-31 17:16:15,425: sh.command: <Command u'/usr/local/bin/git rev-parse HEAD', pid 16143>: process completed\n",
      "[INFO] 2017-05-31 17:16:15,425: sh.command: <Command u'/usr/local/bin/git rev-parse HEAD', pid 16143>: process completed\n",
      "[INFO] 2017-05-31 17:16:15,425: sh.command: <Command u'/usr/local/bin/git rev-parse HEAD', pid 16143>: process completed\n",
      "[INFO] 2017-05-31 17:16:15,456: __main__: Saving experiment configuration\n",
      "[INFO] 2017-05-31 17:16:15,459: __main__: Running trainer\n",
      "epoch       main/loss   main/accuracy  validation/main/accuracy\n",
      "\u001b[J0           1.09563     0.359375                                 \n",
      "\u001b[J0           1.09563     0.359375                                 \n",
      "/Users/thomaseffland/.virtualenvs/research/lib/python2.7/site-packages/chainer/functions/evaluation/classification_summary.py:15: RuntimeWarning: invalid value encountered in true_divide\n",
      "  (beta_square * precision + recall)).astype(precision.dtype)\n",
      "/Users/thomaseffland/.virtualenvs/research/lib/python2.7/site-packages/chainer/functions/evaluation/classification_summary.py:62: RuntimeWarning: invalid value encountered in true_divide\n",
      "  precision = tp / relevant\n",
      "\u001b[J1           1.91462     0.308594       0.316051                  \n",
      "\u001b[J1           1.91462     0.308594       0.316051                  \n",
      "\u001b[J2           1.86722     0.34375        0.343928                  \n",
      "\u001b[J2           1.86722     0.34375        0.343928                  \n",
      "\u001b[J3           2.11733     0.335938       0.332564                  \n",
      "\u001b[J3           2.11733     0.335938       0.332564                  \n",
      "\u001b[J4           1.26819     0.402344       0.310192                  \n",
      "\u001b[J4           1.26819     0.402344       0.310192                  \n",
      "\u001b[J5           1.15836     0.308594       0.349787                  \n",
      "\u001b[J5           1.15836     0.308594       0.349787                  \n",
      "\u001b[J5           1.20365     0.339844                                 \n",
      "\u001b[J5           1.20365     0.339844                                 \n",
      "\u001b[J6           1.24659     0.316406       0.349787                  \n",
      "\u001b[J6           1.24659     0.316406       0.349787                  \n",
      "\u001b[J7           1.17652     0.335938       0.349787                  \n",
      "\u001b[J7           1.17652     0.335938       0.349787                  \n",
      "\u001b[J8           1.12292     0.347656       0.334517                  \n",
      "\u001b[J8           1.12292     0.347656       0.334517                  \n",
      "\u001b[J9           1.10743     0.324219       0.341974                  \n",
      "\u001b[J9           1.10743     0.324219       0.341974                  \n",
      "\u001b[J10          1.10473     0.398438       0.343928                  \n",
      "\u001b[J10          1.10473     0.398438       0.343928                  \n",
      "[INFO] 2017-05-31 17:18:31,682: __main__: Finished Experiment\n"
     ]
    }
   ],
   "source": [
    "!python new_experiment.py -c new_experiment_test.yaml"
   ]
  },
  {
   "cell_type": "code",
   "execution_count": null,
   "metadata": {
    "collapsed": true
   },
   "outputs": [],
   "source": []
  }
 ],
 "metadata": {
  "kernelspec": {
   "display_name": "Python 2",
   "language": "python",
   "name": "python2"
  },
  "language_info": {
   "codemirror_mode": {
    "name": "ipython",
    "version": 2
   },
   "file_extension": ".py",
   "mimetype": "text/x-python",
   "name": "python",
   "nbconvert_exporter": "python",
   "pygments_lexer": "ipython2",
   "version": "2.7.10"
  },
  "toc": {
   "colors": {
    "hover_highlight": "#DAA520",
    "running_highlight": "#FF0000",
    "selected_highlight": "#FFD700"
   },
   "moveMenuLeft": true,
   "nav_menu": {
    "height": "12px",
    "width": "252px"
   },
   "navigate_menu": true,
   "number_sections": true,
   "sideBar": true,
   "threshold": 4,
   "toc_cell": false,
   "toc_section_display": "block",
   "toc_window_display": false,
   "widenNotebook": false
  },
  "varInspector": {
   "cols": {
    "lenName": 16,
    "lenType": 16,
    "lenVar": 40
   },
   "kernels_config": {
    "python": {
     "delete_cmd_postfix": "",
     "delete_cmd_prefix": "del ",
     "library": "var_list.py",
     "varRefreshCmd": "print(var_dic_list())"
    },
    "r": {
     "delete_cmd_postfix": ") ",
     "delete_cmd_prefix": "rm(",
     "library": "var_list.r",
     "varRefreshCmd": "cat(var_dic_list()) "
    }
   },
   "types_to_exclude": [
    "module",
    "function",
    "builtin_function_or_method",
    "instance",
    "_Feature"
   ],
   "window_display": false
  }
 },
 "nbformat": 4,
 "nbformat_minor": 2
}
