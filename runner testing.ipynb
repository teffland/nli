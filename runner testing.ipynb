{
 "cells": [
  {
   "cell_type": "code",
   "execution_count": 2,
   "metadata": {
    "ExecuteTime": {
     "end_time": "2017-06-01T04:07:30.994594Z",
     "start_time": "2017-06-01T04:07:30.972515Z"
    },
    "collapsed": false
   },
   "outputs": [
    {
     "name": "stdout",
     "output_type": "stream",
     "text": [
      "Overwriting new_experiment_test.yaml\n"
     ]
    }
   ],
   "source": [
    "%%writefile new_experiment_test.yaml\n",
    "\n",
    "title: 'A simple test experiment'\n",
    "description: 'Uses CBOW for both premise and hypothesis, then combines with an MLP. Meant to overfit'\n",
    "random_seed: 0\n",
    "results_dir_prefix: 'experiments/'\n",
    "\n",
    "data_setup:\n",
    "    setup_file: \"data_setup.py\"\n",
    "    setup_config:\n",
    "        data_dir: \"data/multinli_0.9/\"\n",
    "        matched: True\n",
    "        genres: [ 'government' ]\n",
    "        drop_confused: True\n",
    "        lowercase: True\n",
    "        pretrained_vectors: \"data/word_vectors/glove.6B.300d.txt\"\n",
    "        normalize_vectors: True\n",
    "        \n",
    "model_setup:\n",
    "    setup_file: \"models/model_setup_example.py\"\n",
    "    setup_config:\n",
    "        mlp_sizes: [ 1000, 600, 300, 3 ]\n",
    "        \n",
    "trainer_setup:\n",
    "    setup_file: \"trainer_setup.py\"\n",
    "    setup_config:\n",
    "        batch_size: 256\n",
    "        max_examples: 256 # 'all'\n",
    "        adam_alpha: .001\n",
    "        n_epoch: 10\n",
    "        evaluation_trigger: [ 50, 'iteration']\n",
    "        checkpoint_trigger: [ 50, 'iteration']    "
   ]
  },
  {
   "cell_type": "code",
   "execution_count": 6,
   "metadata": {
    "ExecuteTime": {
     "end_time": "2017-05-31T21:18:32.154023Z",
     "start_time": "2017-05-31T21:15:17.903365Z"
    },
    "collapsed": false
   },
   "outputs": [
    {
     "name": "stdout",
     "output_type": "stream",
     "text": [
      "[INFO] 2017-06-05 22:51:49,503: __main__: Loading dataset\n",
      "[INFO] 2017-06-05 22:51:55,294: root: Loading Training Data...\n",
      "Traceback (most recent call last):\n",
      "  File \"run_new_experiment.py\", line 104, in <module>\n",
      "    data_setup_config)\n",
      "  File \"data_setup.py\", line 18, in setup\n",
      "    lowercase=config['lowercase'])\n",
      "  File \"/Users/thomaseffland/Development/projects/nli/dataset.py\", line 22, in load_data\n",
      "    for i, line in enumerate(open(osp.join(multi_dir, 'multinli_0.9_train.jsonl'))):\n",
      "IOError: [Errno 2] No such file or directory: 'data/multinli_0.9/multinli_0.9_train.jsonl'\n"
     ]
    }
   ],
   "source": [
    "!python run_new_experiment.py -c new_experiment_test.yaml"
   ]
  },
  {
   "cell_type": "code",
   "execution_count": null,
   "metadata": {
    "collapsed": true
   },
   "outputs": [],
   "source": []
  }
 ],
 "metadata": {
  "kernelspec": {
   "display_name": "Python 2",
   "language": "python",
   "name": "python2"
  },
  "language_info": {
   "codemirror_mode": {
    "name": "ipython",
    "version": 2
   },
   "file_extension": ".py",
   "mimetype": "text/x-python",
   "name": "python",
   "nbconvert_exporter": "python",
   "pygments_lexer": "ipython2",
   "version": "2.7.10"
  },
  "toc": {
   "colors": {
    "hover_highlight": "#DAA520",
    "running_highlight": "#FF0000",
    "selected_highlight": "#FFD700"
   },
   "moveMenuLeft": true,
   "nav_menu": {
    "height": "12px",
    "width": "252px"
   },
   "navigate_menu": true,
   "number_sections": true,
   "sideBar": true,
   "threshold": 4,
   "toc_cell": false,
   "toc_section_display": "block",
   "toc_window_display": false,
   "widenNotebook": false
  },
  "varInspector": {
   "cols": {
    "lenName": 16,
    "lenType": 16,
    "lenVar": 40
   },
   "kernels_config": {
    "python": {
     "delete_cmd_postfix": "",
     "delete_cmd_prefix": "del ",
     "library": "var_list.py",
     "varRefreshCmd": "print(var_dic_list())"
    },
    "r": {
     "delete_cmd_postfix": ") ",
     "delete_cmd_prefix": "rm(",
     "library": "var_list.r",
     "varRefreshCmd": "cat(var_dic_list()) "
    }
   },
   "types_to_exclude": [
    "module",
    "function",
    "builtin_function_or_method",
    "instance",
    "_Feature"
   ],
   "window_display": false
  }
 },
 "nbformat": 4,
 "nbformat_minor": 2
}
