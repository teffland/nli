{
 "cells": [
  {
   "cell_type": "code",
   "execution_count": 1,
   "metadata": {
    "ExecuteTime": {
     "end_time": "2017-05-25T13:42:00.499263Z",
     "start_time": "2017-05-25T13:41:58.790227Z"
    },
    "collapsed": true
   },
   "outputs": [],
   "source": [
    "import matplotlib.pyplot as plt\n",
    "%matplotlib inline\n",
    "import seaborn as sb\n",
    "sb.set()\n",
    "plt.rcParams['figure.figsize'] = (12,9)\n",
    "%load_ext autoreload\n",
    "%autoreload 2"
   ]
  },
  {
   "cell_type": "code",
   "execution_count": 2,
   "metadata": {
    "ExecuteTime": {
     "end_time": "2017-05-25T13:42:00.730751Z",
     "start_time": "2017-05-25T13:42:00.558583Z"
    },
    "collapsed": true
   },
   "outputs": [],
   "source": [
    "import numpy as np\n",
    "import numpy.random as npr\n",
    "import chainer as ch\n",
    "import chainer.functions as F\n",
    "import chainer.links as L\n",
    "import chainer.training.extensions"
   ]
  },
  {
   "cell_type": "code",
   "execution_count": 547,
   "metadata": {
    "ExecuteTime": {
     "end_time": "2017-05-28T19:43:28.124088Z",
     "start_time": "2017-05-28T19:43:28.075084Z"
    }
   },
   "outputs": [
    {
     "name": "stderr",
     "output_type": "stream",
     "text": [
      "[autoreload of updater failed: Traceback (most recent call last):\n",
      "  File \"/Users/thomaseffland/.virtualenvs/research/lib/python2.7/site-packages/IPython/extensions/autoreload.py\", line 247, in check\n",
      "    superreload(m, reload, self.old_objects)\n",
      "NameError: name 'convert' is not defined\n",
      "]\n"
     ]
    }
   ],
   "source": [
    "from dataset import load_data\n",
    "from vocab import Vocab\n",
    "from word_vectors import get_pretrained_vectors"
   ]
  },
  {
   "cell_type": "markdown",
   "metadata": {},
   "source": [
    "# Setup data"
   ]
  },
  {
   "cell_type": "code",
   "execution_count": 4,
   "metadata": {
    "ExecuteTime": {
     "end_time": "2017-05-25T13:42:21.662067Z",
     "start_time": "2017-05-25T13:42:04.411366Z"
    }
   },
   "outputs": [
    {
     "name": "stdout",
     "output_type": "stream",
     "text": [
      "77350 training examples, 1945 dev examples\n"
     ]
    }
   ],
   "source": [
    "train_data, dev_data = load_data(\"data/multinli_0.9/\", \n",
    "                                 matched=True, \n",
    "                                 genres=['government'],\n",
    "                                 drop_confused=True, \n",
    "                                 lowercase=True)\n",
    "print(\"{} training examples, {} dev examples\".format(len(train_data), len(dev_data)))"
   ]
  },
  {
   "cell_type": "code",
   "execution_count": 5,
   "metadata": {
    "ExecuteTime": {
     "end_time": "2017-05-25T13:42:25.052965Z",
     "start_time": "2017-05-25T13:42:22.955065Z"
    },
    "collapsed": true
   },
   "outputs": [],
   "source": [
    "vocab = Vocab(min_count=1)\n",
    "vocab.add([ token for datum in train_data for token in datum['h'] ])\n",
    "vocab.add([ token for datum in train_data for token in datum['p'] ])\n",
    "vocab.add([ token for datum in dev_data for token in datum['h'] ])\n",
    "vocab.add([ token for datum in dev_data for token in datum['p'] ])\n",
    "vocab.drop_infrequent()"
   ]
  },
  {
   "cell_type": "code",
   "execution_count": 6,
   "metadata": {
    "ExecuteTime": {
     "end_time": "2017-05-25T13:42:56.057912Z",
     "start_time": "2017-05-25T13:42:26.374099Z"
    }
   },
   "outputs": [
    {
     "name": "stdout",
     "output_type": "stream",
     "text": [
      "Pretrained coverage: 21967/27285 = 80.51%\n"
     ]
    }
   ],
   "source": [
    "token_embeddings = get_pretrained_vectors(vocab, 'data/word_vectors/glove.6B.300d.txt', \n",
    "                                          normed=True, trim=False)"
   ]
  },
  {
   "cell_type": "code",
   "execution_count": 7,
   "metadata": {
    "ExecuteTime": {
     "end_time": "2017-05-25T13:42:57.447106Z",
     "start_time": "2017-05-25T13:42:57.362285Z"
    },
    "collapsed": true
   },
   "outputs": [],
   "source": [
    "class_vocab = Vocab([ datum['c'] for datum in train_data ],\n",
    "                    min_count=0,\n",
    "                    pad_token=None,\n",
    "                    unk_token=None)"
   ]
  },
  {
   "cell_type": "markdown",
   "metadata": {
    "ExecuteTime": {
     "end_time": "2017-05-25T13:43:22.445319Z",
     "start_time": "2017-05-25T13:43:22.426227Z"
    }
   },
   "source": [
    "# Define Models"
   ]
  },
  {
   "cell_type": "code",
   "execution_count": 537,
   "metadata": {
    "ExecuteTime": {
     "end_time": "2017-05-28T19:20:38.741390Z",
     "start_time": "2017-05-28T19:20:38.721658Z"
    },
    "collapsed": true
   },
   "outputs": [],
   "source": [
    "from monitor import monitor"
   ]
  },
  {
   "cell_type": "code",
   "execution_count": 538,
   "metadata": {
    "ExecuteTime": {
     "end_time": "2017-05-28T19:20:40.255096Z",
     "start_time": "2017-05-28T19:20:40.118610Z"
    },
    "collapsed": true
   },
   "outputs": [],
   "source": []
  },
  {
   "cell_type": "markdown",
   "metadata": {},
   "source": [
    "# Instantiate models and run experiment"
   ]
  },
  {
   "cell_type": "markdown",
   "metadata": {},
   "source": [
    "# What to track:\n",
    "* Number of parameters\n",
    "* Number of trainable parameters\n",
    "* Start time\n",
    "* Examples per second\n",
    "* Updates per second\n",
    "* Model score vs time\n",
    "* Ratio of parameter values to updates (on average for each layer)\n",
    "* Mean, standard dev, and histograms of param updates, and activations\n",
    "* Learning rate  over time\n",
    "* Do model exponentially decayed model weight averaging. Do a moving average."
   ]
  },
  {
   "cell_type": "code",
   "execution_count": 522,
   "metadata": {
    "ExecuteTime": {
     "end_time": "2017-05-28T19:14:46.628501Z",
     "start_time": "2017-05-28T19:14:46.608110Z"
    },
    "collapsed": true
   },
   "outputs": [],
   "source": [
    "from retain_grad import RetainGrad"
   ]
  },
  {
   "cell_type": "code",
   "execution_count": 551,
   "metadata": {
    "ExecuteTime": {
     "end_time": "2017-05-28T19:44:17.884744Z",
     "start_time": "2017-05-28T19:44:17.865215Z"
    },
    "collapsed": true
   },
   "outputs": [],
   "source": [
    "from better_report import BetterLogReport"
   ]
  },
  {
   "cell_type": "code",
   "execution_count": 552,
   "metadata": {
    "ExecuteTime": {
     "end_time": "2017-05-28T19:44:19.158903Z",
     "start_time": "2017-05-28T19:44:19.139026Z"
    },
    "collapsed": true
   },
   "outputs": [],
   "source": [
    "from activation_monitor import ActivationMonitorExtension\n",
    "from backprop_monitor import BackpropMonitorExtension"
   ]
  },
  {
   "cell_type": "code",
   "execution_count": 561,
   "metadata": {
    "ExecuteTime": {
     "end_time": "2017-05-28T19:46:18.988980Z",
     "start_time": "2017-05-28T19:46:18.967941Z"
    },
    "collapsed": true
   },
   "outputs": [],
   "source": [
    "from updater import VariableConverterUpdater\n",
    "from evaluator import VariableConverterEvaluator\n",
    "from converter import NLIBatchConverter"
   ]
  },
  {
   "cell_type": "code",
   "execution_count": 587,
   "metadata": {
    "ExecuteTime": {
     "end_time": "2017-05-28T20:37:26.480211Z",
     "start_time": "2017-05-28T20:37:26.412620Z"
    },
    "collapsed": true
   },
   "outputs": [],
   "source": [
    "cbow = CBOW(token_embeddings)\n",
    "c_model= MLP([1000, 600, 300, 3])\n",
    "predictor = NLIPredictor(cbow, c_model)\n",
    "loss_model = NLILossModel(predictor)\n",
    "\n",
    "\n",
    "optimizer = RetainGrad(ch.optimizers.Adam)()\n",
    "# optimizer = ch.optimizers.Adam()\n",
    "optimizer.setup(loss_model)\n",
    "# optimizer.add_hook(ForwardBackwardMonitorHook())\n",
    "\n",
    "batch_size = 256\n",
    "k = 256\n",
    "train_iter = ch.iterators.SerialIterator(train_data[:k], batch_size, shuffle=True, repeat=True)\n",
    "dev_iter = ch.iterators.SerialIterator(dev_data[:k], batch_size, shuffle=False, repeat=False)"
   ]
  },
  {
   "cell_type": "code",
   "execution_count": 658,
   "metadata": {
    "ExecuteTime": {
     "end_time": "2017-05-28T23:27:57.032254Z",
     "start_time": "2017-05-28T23:27:57.008125Z"
    },
    "collapsed": true
   },
   "outputs": [],
   "source": [
    "import yaml"
   ]
  },
  {
   "cell_type": "code",
   "execution_count": 659,
   "metadata": {
    "ExecuteTime": {
     "end_time": "2017-05-28T23:27:58.416630Z",
     "start_time": "2017-05-28T23:27:58.252447Z"
    }
   },
   "outputs": [
    {
     "name": "stdout",
     "output_type": "stream",
     "text": [
      "n_epoch: 100\r\n",
      "\r\n",
      "adam:\r\n",
      "    learning_rate: .001\r\n",
      "    \r\n",
      "data_setup:\r\n",
      "    setup_file: \"data_setup.py\"\r\n",
      "    setup_config:\r\n",
      "        batch_size: 256\r\n",
      "        max_examples: \"all\"\r\n",
      "        data_dir: \"data/multinli_0.9/\"\r\n",
      "        matched: True\r\n",
      "        genres: [ 'government' ]\r\n",
      "        drop_confused: True\r\n",
      "        lowercase: True\r\n",
      "        pretrained_vectors: \"data/word_vectors/glove.6B.300d.txt\"\r\n",
      "        normalize_vectors: True\r\n",
      "        "
     ]
    }
   ],
   "source": [
    "cat experiment_config.yaml"
   ]
  },
  {
   "cell_type": "code",
   "execution_count": 660,
   "metadata": {
    "ExecuteTime": {
     "end_time": "2017-05-28T23:28:01.136197Z",
     "start_time": "2017-05-28T23:28:01.112154Z"
    },
    "collapsed": true
   },
   "outputs": [],
   "source": [
    "config = yaml.load(open('experiment_config.yaml'))"
   ]
  },
  {
   "cell_type": "code",
   "execution_count": 664,
   "metadata": {
    "ExecuteTime": {
     "end_time": "2017-05-28T23:54:31.616518Z",
     "start_time": "2017-05-28T23:54:31.596601Z"
    },
    "collapsed": true
   },
   "outputs": [],
   "source": [
    "from chainer import Chain, functions as F, links as L"
   ]
  },
  {
   "cell_type": "code",
   "execution_count": 661,
   "metadata": {
    "ExecuteTime": {
     "end_time": "2017-05-28T23:28:29.819362Z",
     "start_time": "2017-05-28T23:28:29.797019Z"
    }
   },
   "outputs": [
    {
     "data": {
      "text/plain": [
       "{'setup_config': {'batch_size': 256,\n",
       "  'data_dir': 'data/multinli_0.9/',\n",
       "  'drop_confused': True,\n",
       "  'genres': ['government'],\n",
       "  'lowercase': True,\n",
       "  'matched': True,\n",
       "  'max_examples': 'all',\n",
       "  'normalize_vectors': True,\n",
       "  'pretrained_vectors': 'data/word_vectors/glove.6B.300d.txt'},\n",
       " 'setup_file': 'data_setup.py'}"
      ]
     },
     "execution_count": 661,
     "metadata": {},
     "output_type": "execute_result"
    }
   ],
   "source": [
    "config['data_setup']\n"
   ]
  },
  {
   "cell_type": "code",
   "execution_count": 663,
   "metadata": {
    "ExecuteTime": {
     "end_time": "2017-05-28T23:37:32.769726Z",
     "start_time": "2017-05-28T23:37:32.750100Z"
    }
   },
   "outputs": [],
   "source": [
    "import importlib"
   ]
  },
  {
   "cell_type": "code",
   "execution_count": 588,
   "metadata": {
    "ExecuteTime": {
     "end_time": "2017-05-28T20:37:32.450886Z",
     "start_time": "2017-05-28T20:37:32.402838Z"
    },
    "collapsed": true
   },
   "outputs": [],
   "source": [
    "converter = NLIBatchConverter(vocab, class_vocab)\n",
    "updater = VariableConverterUpdater(train_iter, optimizer, converter=converter)\n",
    "evaluator = VariableConverterEvaluator(dev_iter, loss_model, converter=converter)\n",
    "activation_monitor = ActivationMonitorExtension()\n",
    "backprop_monitor = BackpropMonitorExtension(loss_model)\n",
    "logger = BetterLogReport(trigger=(1,'iteration'))\n",
    "\n",
    "trainer = ch.training.Trainer(updater, (100, 'epoch'), out='result_test')\n",
    "trainer.extend(evaluator)\n",
    "trainer.extend(activation_monitor)\n",
    "trainer.extend(backprop_monitor)\n",
    "trainer.extend(logger)\n",
    "# trainer.extend(ch.training.extensions.LogReport(trigger=(1,'iteration'),\n",
    "#                                                 postprocess=postprocess))\n",
    "trainer.extend(ch.training.extensions.PrintReport([\n",
    "    'epoch', 'main/loss', 'main/accuracy', 'validation/main/accuracy'],\n",
    "    log_report=logger\n",
    "))\n",
    "# trainer.extend(ch.training.extensions.ProgressBar())\n",
    "# trainer.extend(ch.training.extensions.snapshot(\n",
    "#     trigger=ch.training.triggers.MaxValueTrigger('validation/main/accuracy', (1,'epoch'))\n",
    "# ))"
   ]
  },
  {
   "cell_type": "code",
   "execution_count": 589,
   "metadata": {
    "ExecuteTime": {
     "end_time": "2017-05-28T20:52:04.069510Z",
     "start_time": "2017-05-28T20:37:38.258792Z"
    },
    "cell_style": "center",
    "scrolled": true
   },
   "outputs": [
    {
     "name": "stdout",
     "output_type": "stream",
     "text": [
      "epoch       main/loss   main/accuracy  validation/main/accuracy\n",
      "\u001b[J1           1.15964     0.34375        0.324219                  \n",
      "\u001b[J1           1.15964     0.34375        0.324219                  \n",
      "\u001b[J2           2.54482     0.371094       0.339844                  \n",
      "\u001b[J2           2.54482     0.371094       0.339844                  \n",
      "\u001b[J3           2.23368     0.292969       0.3125                    \n",
      "\u001b[J3           2.23368     0.292969       0.3125                    \n",
      "\u001b[J4           1.23733     0.339844       0.34375                   \n",
      "\u001b[J4           1.23733     0.339844       0.34375                   \n",
      "\u001b[J5           1.18258     0.324219       0.335938                  \n",
      "\u001b[J5           1.18258     0.324219       0.335938                  \n",
      "\u001b[J6           1.25712     0.34375        0.335938                  \n",
      "\u001b[J6           1.25712     0.34375        0.335938                  \n",
      "\u001b[J7           1.21673     0.34375        0.335938                  \n",
      "\u001b[J7           1.21673     0.34375        0.335938                  \n",
      "\u001b[J8           1.16574     0.347656       0.386719                  \n",
      "\u001b[J8           1.16574     0.347656       0.386719                  \n",
      "\u001b[J9           1.11112     0.300781       0.335938                  \n",
      "\u001b[J9           1.11112     0.300781       0.335938                  \n",
      "\u001b[J10          1.1216      0.320312       0.34375                   \n",
      "\u001b[J10          1.1216      0.320312       0.34375                   \n",
      "\u001b[J11          1.14418     0.328125       0.324219                  \n",
      "\u001b[J11          1.14418     0.328125       0.324219                  \n",
      "\u001b[J12          1.12997     0.367188       0.328125                  \n",
      "\u001b[J12          1.12997     0.367188       0.328125                  \n",
      "\u001b[J13          1.12253     0.378906       0.332031                  \n",
      "\u001b[J13          1.12253     0.378906       0.332031                  \n",
      "\u001b[J14          1.12085     0.324219       0.335938                  \n",
      "\u001b[J14          1.12085     0.324219       0.335938                  \n",
      "\u001b[J15          1.0997      0.304688       0.324219                  \n",
      "\u001b[J15          1.0997      0.304688       0.324219                  \n",
      "\u001b[J16          1.11136     0.34375        0.339844                  \n",
      "\u001b[J16          1.11136     0.34375        0.339844                  \n",
      "\u001b[J17          1.11269     0.34375        0.339844                  \n",
      "\u001b[J17          1.11269     0.34375        0.339844                  \n",
      "\u001b[J18          1.1179      0.347656       0.335938                  \n",
      "\u001b[J18          1.1179      0.347656       0.335938                  \n",
      "\u001b[J19          1.12446     0.320312       0.289062                  \n",
      "\u001b[J19          1.12446     0.320312       0.289062                  \n",
      "\u001b[J20          1.10886     0.386719       0.324219                  \n",
      "\u001b[J20          1.10886     0.386719       0.324219                  \n",
      "\u001b[J21          1.10441     0.351562       0.335938                  \n",
      "\u001b[J21          1.10441     0.351562       0.335938                  \n",
      "\u001b[J22          1.09703     0.355469       0.328125                  \n",
      "\u001b[J22          1.09703     0.355469       0.328125                  \n",
      "\u001b[J23          1.10375     0.355469       0.332031                  \n",
      "\u001b[J23          1.10375     0.355469       0.332031                  \n",
      "\u001b[J24          1.09088     0.367188       0.34375                   \n",
      "\u001b[J24          1.09088     0.367188       0.34375                   \n",
      "\u001b[J25          1.12146     0.292969       0.316406                  \n",
      "\u001b[J25          1.12146     0.292969       0.316406                  \n",
      "\u001b[J26          1.10638     0.316406       0.335938                  \n",
      "\u001b[J26          1.10638     0.316406       0.335938                  \n",
      "\u001b[J27          1.09955     0.355469       0.335938                  \n",
      "\u001b[J27          1.09955     0.355469       0.335938                  \n",
      "\u001b[J28          1.09682     0.339844       0.332031                  \n",
      "\u001b[J28          1.09682     0.339844       0.332031                  \n",
      "\u001b[J29          1.0984      0.332031       0.335938                  \n",
      "\u001b[J29          1.0984      0.332031       0.335938                  \n",
      "\u001b[J30          1.09448     0.347656       0.292969                  \n",
      "\u001b[J30          1.09448     0.347656       0.292969                  \n",
      "\u001b[J31          1.09429     0.335938       0.324219                  \n",
      "\u001b[J31          1.09429     0.335938       0.324219                  \n",
      "\u001b[J32          1.10201     0.320312       0.332031                  \n",
      "\u001b[J32          1.10201     0.320312       0.332031                  \n",
      "\u001b[J33          1.10458     0.34375        0.316406                  \n",
      "\u001b[J33          1.10458     0.34375        0.316406                  \n",
      "\u001b[J34          1.11432     0.277344       0.316406                  \n",
      "\u001b[J34          1.11432     0.277344       0.316406                  \n",
      "\u001b[J35          1.10029     0.339844       0.3125                    \n",
      "\u001b[J35          1.10029     0.339844       0.3125                    \n",
      "\u001b[J36          1.10381     0.351562       0.308594                  \n",
      "\u001b[J36          1.10381     0.351562       0.308594                  \n",
      "\u001b[J37          1.10191     0.324219       0.3125                    \n",
      "\u001b[J37          1.10191     0.324219       0.3125                    \n",
      "\u001b[J38          1.09499     0.355469       0.316406                  \n",
      "\u001b[J38          1.09499     0.355469       0.316406                  \n",
      "\u001b[J39          1.09366     0.371094       0.355469                  \n",
      "\u001b[J39          1.09366     0.371094       0.355469                  \n",
      "\u001b[J40          1.09854     0.316406       0.339844                  \n",
      "\u001b[J40          1.09854     0.316406       0.339844                  \n",
      "\u001b[J41          1.09755     0.355469       0.332031                  \n",
      "\u001b[J41          1.09755     0.355469       0.332031                  \n",
      "\u001b[J42          1.10075     0.367188       0.332031                  \n",
      "\u001b[J42          1.10075     0.367188       0.332031                  \n",
      "\u001b[J43          1.10733     0.351562       0.335938                  \n",
      "\u001b[J43          1.10733     0.351562       0.335938                  \n",
      "\u001b[J44          1.10644     0.335938       0.347656                  \n",
      "\u001b[J44          1.10644     0.335938       0.347656                  \n",
      "\u001b[J45          1.10188     0.359375       0.335938                  \n",
      "\u001b[J45          1.10188     0.359375       0.335938                  \n",
      "\u001b[J46          1.0978      0.371094       0.347656                  \n",
      "\u001b[J46          1.0978      0.371094       0.347656                  \n",
      "\u001b[J47          1.09541     0.355469       0.304688                  \n",
      "\u001b[J47          1.09541     0.355469       0.304688                  \n",
      "\u001b[J48          1.09976     0.351562       0.3125                    \n",
      "\u001b[J48          1.09976     0.351562       0.3125                    \n",
      "\u001b[J49          1.08945     0.375          0.3125                    \n",
      "\u001b[J49          1.08945     0.375          0.3125                    \n",
      "\u001b[J50          1.11369     0.3125         0.316406                  \n",
      "\u001b[J50          1.11369     0.3125         0.316406                  \n",
      "\u001b[J51          1.09225     0.355469       0.324219                  \n",
      "\u001b[J51          1.09225     0.355469       0.324219                  \n",
      "\u001b[J52          1.08405     0.375          0.34375                   \n",
      "\u001b[J52          1.08405     0.375          0.34375                   \n",
      "\u001b[J53          1.11068     0.335938       0.332031                  \n",
      "\u001b[J53          1.11068     0.335938       0.332031                  \n",
      "\u001b[J54          1.0971      0.394531       0.328125                  \n",
      "\u001b[J54          1.0971      0.394531       0.328125                  \n",
      "\u001b[J55          1.10646     0.335938       0.324219                  \n",
      "\u001b[J55          1.10646     0.335938       0.324219                  \n",
      "\u001b[J56          1.10171     0.339844       0.34375                   \n",
      "\u001b[J56          1.10171     0.339844       0.34375                   \n",
      "\u001b[J57          1.10001     0.34375        0.34375                   \n",
      "\u001b[J57          1.10001     0.34375        0.34375                   \n",
      "\u001b[J58          1.10474     0.394531       0.335938                  \n",
      "\u001b[J58          1.10474     0.394531       0.335938                  \n",
      "\u001b[J59          1.10016     0.34375        0.316406                  \n",
      "\u001b[J59          1.10016     0.34375        0.316406                  \n"
     ]
    },
    {
     "name": "stdout",
     "output_type": "stream",
     "text": [
      "\u001b[J60          1.09915     0.347656       0.324219                  \n",
      "\u001b[J60          1.09915     0.347656       0.324219                  \n",
      "\u001b[J61          1.09545     0.351562       0.324219                  \n",
      "\u001b[J61          1.09545     0.351562       0.324219                  \n",
      "\u001b[J62          1.10299     0.382812       0.3125                    \n",
      "\u001b[J62          1.10299     0.382812       0.3125                    \n",
      "\u001b[J63          1.10246     0.347656       0.324219                  \n",
      "\u001b[J63          1.10246     0.347656       0.324219                  \n",
      "\u001b[J64          1.10151     0.339844       0.296875                  \n",
      "\u001b[J64          1.10151     0.339844       0.296875                  \n",
      "\u001b[J65          1.0961      0.398438       0.277344                  \n",
      "\u001b[J65          1.0961      0.398438       0.277344                  \n",
      "\u001b[J66          1.10099     0.332031       0.296875                  \n",
      "\u001b[J66          1.10099     0.332031       0.296875                  \n",
      "\u001b[J67          1.10473     0.324219       0.296875                  \n",
      "\u001b[J67          1.10473     0.324219       0.296875                  \n",
      "\u001b[J68          1.09617     0.34375        0.320312                  \n",
      "\u001b[J68          1.09617     0.34375        0.320312                  \n",
      "\u001b[J69          1.09455     0.347656       0.3125                    \n",
      "\u001b[J69          1.09455     0.347656       0.3125                    \n",
      "\u001b[J70          1.09797     0.335938       0.320312                  \n",
      "\u001b[J70          1.09797     0.335938       0.320312                  \n",
      "\u001b[J71          1.08962     0.347656       0.320312                  \n",
      "\u001b[J71          1.08962     0.347656       0.320312                  \n",
      "\u001b[J72          1.09287     0.363281       0.316406                  \n",
      "\u001b[J72          1.09287     0.363281       0.316406                  \n",
      "\u001b[J73          1.102       0.34375        0.320312                  \n",
      "\u001b[J73          1.102       0.34375        0.320312                  \n",
      "\u001b[J74          1.09659     0.339844       0.335938                  \n",
      "\u001b[J74          1.09659     0.339844       0.335938                  \n",
      "\u001b[J75          1.09868     0.375          0.363281                  \n",
      "\u001b[J75          1.09868     0.375          0.363281                  \n",
      "\u001b[J76          1.09542     0.363281       0.351562                  \n",
      "\u001b[J76          1.09542     0.363281       0.351562                  \n",
      "\u001b[J77          1.09668     0.347656       0.335938                  \n",
      "\u001b[J77          1.09668     0.347656       0.335938                  \n",
      "\u001b[J78          1.09706     0.320312       0.324219                  \n",
      "\u001b[J78          1.09706     0.320312       0.324219                  \n",
      "\u001b[J79          1.10385     0.316406       0.324219                  \n",
      "\u001b[J79          1.10385     0.316406       0.324219                  \n",
      "\u001b[J80          1.10375     0.359375       0.335938                  \n",
      "\u001b[J80          1.10375     0.359375       0.335938                  \n",
      "\u001b[J81          1.10235     0.339844       0.347656                  \n",
      "\u001b[J81          1.10235     0.339844       0.347656                  \n",
      "\u001b[J82          1.09828     0.347656       0.34375                   \n",
      "\u001b[J82          1.09828     0.347656       0.34375                   \n",
      "\u001b[J83          1.09214     0.386719       0.347656                  \n",
      "\u001b[J83          1.09214     0.386719       0.347656                  \n",
      "\u001b[J84          1.0997      0.347656       0.324219                  \n",
      "\u001b[J84          1.0997      0.347656       0.324219                  \n",
      "\u001b[J85          1.10047     0.347656       0.324219                  \n",
      "\u001b[J85          1.10047     0.347656       0.324219                  \n",
      "\u001b[J86          1.1033      0.359375       0.324219                  \n",
      "\u001b[J86          1.1033      0.359375       0.324219                  \n",
      "\u001b[J87          1.10357     0.351562       0.339844                  \n",
      "\u001b[J87          1.10357     0.351562       0.339844                  \n",
      "\u001b[J88          1.0892      0.375          0.347656                  \n",
      "\u001b[J88          1.0892      0.375          0.347656                  \n",
      "\u001b[J89          1.09952     0.367188       0.335938                  \n",
      "\u001b[J89          1.09952     0.367188       0.335938                  \n",
      "\u001b[J90          1.10395     0.34375        0.339844                  \n",
      "\u001b[J90          1.10395     0.34375        0.339844                  \n",
      "\u001b[J91          1.09539     0.359375       0.339844                  \n",
      "\u001b[J91          1.09539     0.359375       0.339844                  \n",
      "\u001b[J92          1.10058     0.3125         0.339844                  \n",
      "\u001b[J92          1.10058     0.3125         0.339844                  \n",
      "\u001b[J93          1.09217     0.371094       0.339844                  \n",
      "\u001b[J93          1.09217     0.371094       0.339844                  \n",
      "\u001b[J94          1.09305     0.332031       0.355469                  \n",
      "\u001b[J94          1.09305     0.332031       0.355469                  \n",
      "\u001b[J95          1.09507     0.347656       0.328125                  \n",
      "\u001b[J95          1.09507     0.347656       0.328125                  \n",
      "\u001b[J96          1.10421     0.335938       0.328125                  \n",
      "\u001b[J96          1.10421     0.335938       0.328125                  \n",
      "\u001b[J97          1.09159     0.359375       0.328125                  \n",
      "\u001b[J97          1.09159     0.359375       0.328125                  \n",
      "\u001b[J98          1.09437     0.332031       0.316406                  \n",
      "\u001b[J98          1.09437     0.332031       0.316406                  \n",
      "\u001b[J99          1.09824     0.367188       0.328125                  \n",
      "\u001b[J99          1.09824     0.367188       0.328125                  \n",
      "\u001b[J100         1.10157     0.378906       0.324219                  \n",
      "\u001b[J100         1.10157     0.378906       0.324219                  \n"
     ]
    }
   ],
   "source": [
    "trainer.run()"
   ]
  },
  {
   "cell_type": "code",
   "execution_count": null,
   "metadata": {
    "collapsed": true
   },
   "outputs": [],
   "source": [
    "ch.optimizers.Adam()"
   ]
  },
  {
   "cell_type": "markdown",
   "metadata": {},
   "source": [
    "# TODO\n",
    "\n",
    "* [X] Compute micro, macro, and class-wise f1s\n",
    "* [X] Report training and validation metrics\n",
    "* [X] Report activation histograms\n",
    "* [X] Report activation means, variances\n",
    "* [X] Report gradient _update_ histograms\n",
    "* [X] Report gradient _update_ means, variances\n",
    "\n",
    "\n",
    "* [ ] Checkpoint model and be able to restore model from checkpoint\n",
    "* [ ] Visualize the training as it progresses\n",
    "* [ ] Batch out multiple experiments\n",
    "* [ ] Post output to results folder that is timestamped\n",
    "* [ ] Output config to results folder\n",
    "* [ ] \n",
    "\n",
    "Need to be able to:\n",
    "* Run experiments but exchange architectures\n",
    "* Reproduce all experiments\n",
    "* Analyze results, diagnose optimization and data errors"
   ]
  },
  {
   "cell_type": "code",
   "execution_count": 593,
   "metadata": {
    "ExecuteTime": {
     "end_time": "2017-05-28T20:57:14.795314Z",
     "start_time": "2017-05-28T20:57:14.775892Z"
    },
    "collapsed": true
   },
   "outputs": [],
   "source": [
    "main_loss = [l['main/accuracy'] for l in logger._log]"
   ]
  },
  {
   "cell_type": "code",
   "execution_count": 607,
   "metadata": {
    "ExecuteTime": {
     "end_time": "2017-05-28T21:26:29.836858Z",
     "start_time": "2017-05-28T21:26:29.817465Z"
    },
    "collapsed": true
   },
   "outputs": [],
   "source": [
    "from IPython.display import HTML"
   ]
  },
  {
   "cell_type": "code",
   "execution_count": 633,
   "metadata": {
    "ExecuteTime": {
     "end_time": "2017-05-28T21:45:00.997258Z",
     "start_time": "2017-05-28T21:45:00.977599Z"
    },
    "collapsed": true
   },
   "outputs": [],
   "source": [
    "css = \"\"\"\n",
    "h3 {\n",
    "    color:grey;\n",
    "}\n",
    "\"\"\""
   ]
  },
  {
   "cell_type": "code",
   "execution_count": 638,
   "metadata": {
    "ExecuteTime": {
     "end_time": "2017-05-28T21:47:05.414462Z",
     "start_time": "2017-05-28T21:47:05.394987Z"
    },
    "collapsed": true
   },
   "outputs": [],
   "source": [
    "viz = \"\"\"\n",
    "d3.select('#main-viz')\n",
    "    .html('d3 inserted this!')\n",
    "\"\"\""
   ]
  },
  {
   "cell_type": "code",
   "execution_count": 641,
   "metadata": {
    "ExecuteTime": {
     "end_time": "2017-05-28T21:59:54.774039Z",
     "start_time": "2017-05-28T21:59:54.752476Z"
    }
   },
   "outputs": [
    {
     "data": {
      "text/html": [
       "<!doctype html>\n",
       "<head>\n",
       "    <script src=\"http://d3js.org/d3.v4.min.js\"></script>\n",
       "</head>\n",
       "<body>\n",
       "    <h3>This is a visualization</h3>\n",
       "    <div id=\"viz\"></div>\n",
       "    <script>d3.select('.viz').html('<h4>D3 put this in</h4>')</script>\n",
       "</body>"
      ],
      "text/plain": [
       "<IPython.core.display.HTML object>"
      ]
     },
     "execution_count": 641,
     "metadata": {},
     "output_type": "execute_result"
    }
   ],
   "source": [
    "HTML(open('vis_test.html').read())"
   ]
  },
  {
   "cell_type": "code",
   "execution_count": 640,
   "metadata": {
    "ExecuteTime": {
     "end_time": "2017-05-28T21:47:07.992666Z",
     "start_time": "2017-05-28T21:47:07.971337Z"
    }
   },
   "outputs": [
    {
     "data": {
      "text/html": [
       "\n",
       "<style> \n",
       "h3 {\n",
       "    color:grey;\n",
       "}\n",
       " </style>\n",
       "<div> <h3> This is a visualization </h3> </div>\n",
       "<div id=\"main-viz\"></div>\n",
       "<script> \n",
       "d3.select('#main-viz')\n",
       "    .html('d3 inserted this!')\n",
       " </script>\n"
      ],
      "text/plain": [
       "<IPython.core.display.HTML object>"
      ]
     },
     "execution_count": 640,
     "metadata": {},
     "output_type": "execute_result"
    }
   ],
   "source": [
    "html_str = \"\"\"\n",
    "<style> {css} </style>\n",
    "<div> <h3> This is a visualization </h3> </div>\n",
    "<div id=\"main-viz\"></div>\n",
    "<script> {viz_js} </script>\n",
    "\"\"\"\n",
    "HTML(html_str.format(css=css, viz_js=viz))"
   ]
  },
  {
   "cell_type": "markdown",
   "metadata": {},
   "source": [
    "[How to embed d3 in jupyter](http://blog.thedataincubator.com/2015/08/embedding-d3-in-an-ipython-notebook/)"
   ]
  },
  {
   "cell_type": "code",
   "execution_count": 606,
   "metadata": {
    "ExecuteTime": {
     "end_time": "2017-05-28T21:03:33.483865Z",
     "start_time": "2017-05-28T21:03:33.462254Z"
    }
   },
   "outputs": [
    {
     "data": {
      "application/javascript": [
       "require.config({\n",
       "  paths: {\n",
       "      d3: '//cdnjs.cloudflare.com/ajax/libs/d3/3.4.8/d3.min'\n",
       "  }\n",
       "});\n",
       "var margin = {top: 20, right: 10, bottom: 20, left: 10};\n",
       "var width = 960 - margin.left - margin.right,\n",
       "    height = 500 - margin.top - margin.bottom;\n",
       "var svg = d3.select(\"element\").append(\"svg\")\n",
       "    .attr(\"width\", width + margin.left + margin.right)\n",
       "    .attr(\"height\", height + margin.top + margin.bottom)\n",
       "  .append(\"g\")\n",
       "    .attr(\"transform\", \"translate(\" + margin.left + \",\" + margin.top + \")\")\n",
       "var x = d3.scale.linear()\n",
       "    .range([0, width]);\n",
       "var y = d3.scale.linear()\n",
       "    .range([height, 0]);"
      ],
      "text/plain": [
       "<IPython.core.display.Javascript object>"
      ]
     },
     "metadata": {},
     "output_type": "display_data"
    }
   ],
   "source": [
    "%%javascript\n",
    "require.config({\n",
    "  paths: {\n",
    "      d3: '//cdnjs.cloudflare.com/ajax/libs/d3/3.4.8/d3.min'\n",
    "  }\n",
    "});\n",
    "var margin = {top: 20, right: 10, bottom: 20, left: 10};\n",
    "var width = 960 - margin.left - margin.right,\n",
    "    height = 500 - margin.top - margin.bottom;\n",
    "var svg = d3.select(\"element\").append(\"svg\")\n",
    "    .attr(\"width\", width + margin.left + margin.right)\n",
    "    .attr(\"height\", height + margin.top + margin.bottom)\n",
    "  .append(\"g\")\n",
    "    .attr(\"transform\", \"translate(\" + margin.left + \",\" + margin.top + \")\")\n",
    "var x = d3.scale.linear()\n",
    "    .range([0, width]);\n",
    "var y = d3.scale.linear()\n",
    "    .range([height, 0]);"
   ]
  },
  {
   "cell_type": "code",
   "execution_count": null,
   "metadata": {
    "collapsed": true
   },
   "outputs": [],
   "source": []
  }
 ],
 "metadata": {
  "kernelspec": {
   "display_name": "Python 2",
   "language": "python",
   "name": "python2"
  },
  "language_info": {
   "codemirror_mode": {
    "name": "ipython",
    "version": 2
   },
   "file_extension": ".py",
   "mimetype": "text/x-python",
   "name": "python",
   "nbconvert_exporter": "python",
   "pygments_lexer": "ipython2",
   "version": "2.7.10"
  },
  "toc": {
   "colors": {
    "hover_highlight": "#DAA520",
    "running_highlight": "#FF0000",
    "selected_highlight": "#FFD700"
   },
   "moveMenuLeft": true,
   "nav_menu": {
    "height": "12px",
    "width": "252px"
   },
   "navigate_menu": true,
   "number_sections": true,
   "sideBar": true,
   "threshold": 4,
   "toc_cell": false,
   "toc_section_display": "block",
   "toc_window_display": false,
   "widenNotebook": false
  },
  "varInspector": {
   "cols": {
    "lenName": 16,
    "lenType": 16,
    "lenVar": 40
   },
   "kernels_config": {
    "python": {
     "delete_cmd_postfix": "",
     "delete_cmd_prefix": "del ",
     "library": "var_list.py",
     "varRefreshCmd": "print(var_dic_list())"
    },
    "r": {
     "delete_cmd_postfix": ") ",
     "delete_cmd_prefix": "rm(",
     "library": "var_list.r",
     "varRefreshCmd": "cat(var_dic_list()) "
    }
   },
   "position": {
    "height": "144px",
    "left": "904px",
    "right": "20px",
    "top": "126px",
    "width": "350px"
   },
   "types_to_exclude": [
    "module",
    "function",
    "builtin_function_or_method",
    "instance",
    "_Feature"
   ],
   "window_display": false
  }
 },
 "nbformat": 4,
 "nbformat_minor": 2
}
