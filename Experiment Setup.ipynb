{
 "cells": [
  {
   "cell_type": "code",
   "execution_count": 1,
   "metadata": {
    "ExecuteTime": {
     "end_time": "2017-05-25T13:42:00.499263Z",
     "start_time": "2017-05-25T13:41:58.790227Z"
    },
    "collapsed": true
   },
   "outputs": [],
   "source": [
    "import matplotlib.pyplot as plt\n",
    "%matplotlib inline\n",
    "import seaborn as sb\n",
    "sb.set()\n",
    "plt.rcParams['figure.figsize'] = (12,9)\n",
    "%load_ext autoreload\n",
    "%autoreload 2"
   ]
  },
  {
   "cell_type": "code",
   "execution_count": 2,
   "metadata": {
    "ExecuteTime": {
     "end_time": "2017-05-25T13:42:00.730751Z",
     "start_time": "2017-05-25T13:42:00.558583Z"
    },
    "collapsed": true
   },
   "outputs": [],
   "source": [
    "import numpy as np\n",
    "import numpy.random as npr\n",
    "import chainer as ch\n",
    "import chainer.functions as F\n",
    "import chainer.links as L\n",
    "import chainer.training.extensions"
   ]
  },
  {
   "cell_type": "code",
   "execution_count": 547,
   "metadata": {
    "ExecuteTime": {
     "end_time": "2017-05-28T19:43:28.124088Z",
     "start_time": "2017-05-28T19:43:28.075084Z"
    }
   },
   "outputs": [
    {
     "name": "stderr",
     "output_type": "stream",
     "text": [
      "[autoreload of updater failed: Traceback (most recent call last):\n",
      "  File \"/Users/thomaseffland/.virtualenvs/research/lib/python2.7/site-packages/IPython/extensions/autoreload.py\", line 247, in check\n",
      "    superreload(m, reload, self.old_objects)\n",
      "NameError: name 'convert' is not defined\n",
      "]\n"
     ]
    }
   ],
   "source": [
    "from dataset import load_data\n",
    "from vocab import Vocab\n",
    "from word_vectors import get_pretrained_vectors"
   ]
  },
  {
   "cell_type": "markdown",
   "metadata": {},
   "source": [
    "# Setup data"
   ]
  },
  {
   "cell_type": "code",
   "execution_count": 4,
   "metadata": {
    "ExecuteTime": {
     "end_time": "2017-05-25T13:42:21.662067Z",
     "start_time": "2017-05-25T13:42:04.411366Z"
    }
   },
   "outputs": [
    {
     "name": "stdout",
     "output_type": "stream",
     "text": [
      "77350 training examples, 1945 dev examples\n"
     ]
    }
   ],
   "source": [
    "train_data, dev_data = load_data(\"data/multinli_0.9/\", \n",
    "                                 matched=True, \n",
    "                                 genres=['government'],\n",
    "                                 drop_confused=True, \n",
    "                                 lowercase=True)\n",
    "print(\"{} training examples, {} dev examples\".format(len(train_data), len(dev_data)))"
   ]
  },
  {
   "cell_type": "code",
   "execution_count": 5,
   "metadata": {
    "ExecuteTime": {
     "end_time": "2017-05-25T13:42:25.052965Z",
     "start_time": "2017-05-25T13:42:22.955065Z"
    },
    "collapsed": true
   },
   "outputs": [],
   "source": [
    "vocab = Vocab(min_count=1)\n",
    "vocab.add([ token for datum in train_data for token in datum['h'] ])\n",
    "vocab.add([ token for datum in train_data for token in datum['p'] ])\n",
    "vocab.add([ token for datum in dev_data for token in datum['h'] ])\n",
    "vocab.add([ token for datum in dev_data for token in datum['p'] ])\n",
    "vocab.drop_infrequent()"
   ]
  },
  {
   "cell_type": "code",
   "execution_count": 6,
   "metadata": {
    "ExecuteTime": {
     "end_time": "2017-05-25T13:42:56.057912Z",
     "start_time": "2017-05-25T13:42:26.374099Z"
    }
   },
   "outputs": [
    {
     "name": "stdout",
     "output_type": "stream",
     "text": [
      "Pretrained coverage: 21967/27285 = 80.51%\n"
     ]
    }
   ],
   "source": [
    "token_embeddings = get_pretrained_vectors(vocab, 'data/word_vectors/glove.6B.300d.txt', \n",
    "                                          normed=True, trim=False)"
   ]
  },
  {
   "cell_type": "code",
   "execution_count": 7,
   "metadata": {
    "ExecuteTime": {
     "end_time": "2017-05-25T13:42:57.447106Z",
     "start_time": "2017-05-25T13:42:57.362285Z"
    },
    "collapsed": true
   },
   "outputs": [],
   "source": [
    "class_vocab = Vocab([ datum['c'] for datum in train_data ],\n",
    "                    min_count=0,\n",
    "                    pad_token=None,\n",
    "                    unk_token=None)"
   ]
  },
  {
   "cell_type": "markdown",
   "metadata": {
    "ExecuteTime": {
     "end_time": "2017-05-25T13:43:22.445319Z",
     "start_time": "2017-05-25T13:43:22.426227Z"
    }
   },
   "source": [
    "# Define Models"
   ]
  },
  {
   "cell_type": "code",
   "execution_count": 537,
   "metadata": {
    "ExecuteTime": {
     "end_time": "2017-05-28T19:20:38.741390Z",
     "start_time": "2017-05-28T19:20:38.721658Z"
    },
    "collapsed": true
   },
   "outputs": [],
   "source": [
    "from monitor import monitor"
   ]
  },
  {
   "cell_type": "code",
   "execution_count": 538,
   "metadata": {
    "ExecuteTime": {
     "end_time": "2017-05-28T19:20:40.255096Z",
     "start_time": "2017-05-28T19:20:40.118610Z"
    },
    "collapsed": true
   },
   "outputs": [],
   "source": []
  },
  {
   "cell_type": "markdown",
   "metadata": {},
   "source": [
    "# Instantiate models and run experiment"
   ]
  },
  {
   "cell_type": "markdown",
   "metadata": {},
   "source": [
    "# What to track:\n",
    "* Number of parameters\n",
    "* Number of trainable parameters\n",
    "* Start time\n",
    "* Examples per second\n",
    "* Updates per second\n",
    "* Model score vs time\n",
    "* Ratio of parameter values to updates (on average for each layer)\n",
    "* Mean, standard dev, and histograms of param updates, and activations\n",
    "* Learning rate  over time\n",
    "* Do model exponentially decayed model weight averaging. Do a moving average."
   ]
  },
  {
   "cell_type": "code",
   "execution_count": 522,
   "metadata": {
    "ExecuteTime": {
     "end_time": "2017-05-28T19:14:46.628501Z",
     "start_time": "2017-05-28T19:14:46.608110Z"
    },
    "collapsed": true
   },
   "outputs": [],
   "source": [
    "from retain_grad import RetainGrad"
   ]
  },
  {
   "cell_type": "code",
   "execution_count": 551,
   "metadata": {
    "ExecuteTime": {
     "end_time": "2017-05-28T19:44:17.884744Z",
     "start_time": "2017-05-28T19:44:17.865215Z"
    },
    "collapsed": true
   },
   "outputs": [],
   "source": [
    "from better_report import BetterLogReport"
   ]
  },
  {
   "cell_type": "code",
   "execution_count": 552,
   "metadata": {
    "ExecuteTime": {
     "end_time": "2017-05-28T19:44:19.158903Z",
     "start_time": "2017-05-28T19:44:19.139026Z"
    },
    "collapsed": true
   },
   "outputs": [],
   "source": [
    "from activation_monitor import ActivationMonitorExtension\n",
    "from backprop_monitor import BackpropMonitorExtension"
   ]
  },
  {
   "cell_type": "code",
   "execution_count": 561,
   "metadata": {
    "ExecuteTime": {
     "end_time": "2017-05-28T19:46:18.988980Z",
     "start_time": "2017-05-28T19:46:18.967941Z"
    },
    "collapsed": true
   },
   "outputs": [],
   "source": [
    "from updater import VariableConverterUpdater\n",
    "from evaluator import VariableConverterEvaluator\n",
    "from converter import NLIBatchConverter"
   ]
  },
  {
   "cell_type": "code",
   "execution_count": 684,
   "metadata": {
    "ExecuteTime": {
     "end_time": "2017-05-31T15:19:13.878152Z",
     "start_time": "2017-05-31T15:19:13.797869Z"
    },
    "collapsed": true
   },
   "outputs": [],
   "source": [
    "cbow = CBOW(token_embeddings)\n",
    "c_model= MLP([1000, 600, 300, 3])\n",
    "predictor = NLIPredictor(cbow, c_model)\n",
    "loss_model = NLILossModel(predictor)\n",
    "\n",
    "\n",
    "optimizer = RetainGrad(ch.optimizers.Adam)()\n",
    "# optimizer = ch.optimizers.Adam()\n",
    "optimizer.setup(loss_model)\n",
    "# optimizer.add_hook(ForwardBackwardMonitorHook())\n",
    "\n",
    "batch_size = 256\n",
    "k = 256\n",
    "train_iter = ch.iterators.SerialIterator(train_data[:k], batch_size, shuffle=True, repeat=True)\n",
    "dev_iter = ch.iterators.SerialIterator(dev_data[:k], batch_size, shuffle=False, repeat=False)"
   ]
  },
  {
   "cell_type": "code",
   "execution_count": 688,
   "metadata": {
    "ExecuteTime": {
     "end_time": "2017-05-31T15:22:16.744348Z",
     "start_time": "2017-05-31T15:22:16.725016Z"
    },
    "collapsed": true
   },
   "outputs": [],
   "source": [
    "import os\n",
    "import os.path as osp\n"
   ]
  },
  {
   "cell_type": "code",
   "execution_count": 690,
   "metadata": {
    "ExecuteTime": {
     "end_time": "2017-05-31T15:22:52.052191Z",
     "start_time": "2017-05-31T15:22:52.031062Z"
    }
   },
   "outputs": [
    {
     "data": {
      "text/plain": [
       "'result_test/snapshots'"
      ]
     },
     "execution_count": 690,
     "metadata": {},
     "output_type": "execute_result"
    }
   ],
   "source": [
    "osp.join('result_test', 'snapshots')"
   ]
  },
  {
   "cell_type": "code",
   "execution_count": 698,
   "metadata": {
    "ExecuteTime": {
     "end_time": "2017-05-31T15:31:41.750908Z",
     "start_time": "2017-05-31T15:31:41.730795Z"
    }
   },
   "outputs": [
    {
     "name": "stdout",
     "output_type": "stream",
     "text": [
      "None\n"
     ]
    }
   ],
   "source": [
    "print(getattr({'results_dirname':'test'}, 'results_dirname', None))"
   ]
  },
  {
   "cell_type": "code",
   "execution_count": 692,
   "metadata": {
    "ExecuteTime": {
     "end_time": "2017-05-31T15:26:00.505698Z",
     "start_time": "2017-05-31T15:26:00.482438Z"
    },
    "collapsed": true
   },
   "outputs": [],
   "source": [
    "import os\n",
    "import os.path as osp\n",
    "outdir = 'result_test'\n",
    "snapshot_dir = osp.join(outdir, 'snapshots')\n",
    "tmpsnapshot_dir = osp.join(outdir, 'tmpsnapshots')\n",
    "if not osp.exists(outdir): os.makedirs(outdir)\n",
    "if not osp.exists(snapshot_dir): os.makedirs(snapshot_dir)\n",
    "if not osp.exists(tmpsnapshot_dir): os.makedirs(tmpsnapshot_dir)"
   ]
  },
  {
   "cell_type": "code",
   "execution_count": 693,
   "metadata": {
    "ExecuteTime": {
     "end_time": "2017-05-31T15:26:01.892932Z",
     "start_time": "2017-05-31T15:26:01.864937Z"
    }
   },
   "outputs": [],
   "source": [
    "converter = NLIBatchConverter(vocab, class_vocab)\n",
    "updater = VariableConverterUpdater(train_iter, optimizer, converter=converter)\n",
    "evaluator = VariableConverterEvaluator(dev_iter, loss_model, converter=converter)\n",
    "activation_monitor = ActivationMonitorExtension()\n",
    "backprop_monitor = BackpropMonitorExtension(loss_model)\n",
    "logger = BetterLogReport(trigger=(1,'iteration'))\n",
    "\n",
    "trainer = ch.training.Trainer(updater, (100, 'epoch'), out=outdir)\n",
    "trainer.extend(evaluator)\n",
    "trainer.extend(activation_monitor)\n",
    "trainer.extend(backprop_monitor)\n",
    "trainer.extend(logger)\n",
    "# trainer.extend(ch.training.extensions.LogReport(trigger=(1,'iteration'),\n",
    "#                                                 postprocess=postprocess))\n",
    "trainer.extend(ch.training.extensions.PrintReport([\n",
    "    'epoch', 'main/loss', 'main/accuracy', 'validation/main/accuracy'],\n",
    "    log_report=logger\n",
    "))\n",
    "trainer.extend(ch.training.extensions.snapshot(\n",
    "    filename='snapshots/snapshot_iter_{.updater.iteration}', \n",
    "    trigger=(1, 'epoch')\n",
    "))\n",
    "# trainer.extend(ch.training.extensions.ProgressBar())\n",
    "# trainer.extend(ch.training.extensions.snapshot(\n",
    "#     trigger=ch.training.triggers.MaxValueTrigger('validation/main/accuracy', (1,'epoch'))\n",
    "# ))"
   ]
  },
  {
   "cell_type": "code",
   "execution_count": 694,
   "metadata": {
    "ExecuteTime": {
     "end_time": "2017-05-31T15:31:19.052402Z",
     "start_time": "2017-05-31T15:26:03.201126Z"
    },
    "cell_style": "center",
    "scrolled": true
   },
   "outputs": [
    {
     "name": "stdout",
     "output_type": "stream",
     "text": [
      "epoch       main/loss   main/accuracy  validation/main/accuracy\n",
      "\u001b[J2           3.27839     0.347656       0.339844                  \n",
      "\u001b[J2           3.27839     0.347656       0.339844                  \n",
      "\u001b[J3           2.96289     0.296875       0.339844                  \n",
      "\u001b[J3           2.96289     0.296875       0.339844                  \n",
      "\u001b[J4           1.74889     0.296875       0.328125                  \n",
      "\u001b[J4           1.74889     0.296875       0.328125                  \n",
      "\u001b[J5           1.13267     0.324219       0.324219                  \n",
      "\u001b[J5           1.13267     0.324219       0.324219                  \n",
      "\u001b[J6           1.20713     0.359375       0.324219                  \n",
      "\u001b[J6           1.20713     0.359375       0.324219                  \n",
      "\u001b[J7           1.17865     0.355469       0.335938                  \n",
      "\u001b[J7           1.17865     0.355469       0.335938                  \n",
      "\u001b[J8           1.16577     0.359375       0.332031                  \n",
      "\u001b[J8           1.16577     0.359375       0.332031                  \n",
      "\u001b[J9           1.15699     0.347656       0.335938                  \n",
      "\u001b[J9           1.15699     0.347656       0.335938                  \n",
      "\u001b[J10          1.11305     0.351562       0.335938                  \n",
      "\u001b[J10          1.11305     0.351562       0.335938                  \n",
      "\u001b[J11          1.10951     0.34375        0.328125                  \n",
      "\u001b[J11          1.10951     0.34375        0.328125                  \n",
      "\u001b[J12          1.11354     0.300781       0.328125                  \n",
      "\u001b[J12          1.11354     0.300781       0.328125                  \n",
      "\u001b[J13          1.11604     0.324219       0.328125                  \n",
      "\u001b[J13          1.11604     0.324219       0.328125                  \n",
      "\u001b[J14          1.11766     0.3125         0.320312                  \n",
      "\u001b[J14          1.11766     0.3125         0.320312                  \n",
      "\u001b[J15          1.12066     0.347656       0.347656                  \n",
      "\u001b[J15          1.12066     0.347656       0.347656                  \n",
      "\u001b[J16          1.10528     0.328125       0.328125                  \n",
      "\u001b[J16          1.10528     0.328125       0.328125                  \n",
      "\u001b[J17          1.10331     0.335938       0.324219                  \n",
      "\u001b[J17          1.10331     0.335938       0.324219                  \n",
      "\u001b[J18          1.1037      0.351562       0.335938                  \n",
      "\u001b[J18          1.1037      0.351562       0.335938                  \n",
      "\u001b[J19          1.1071      0.359375       0.328125                  \n",
      "\u001b[J19          1.1071      0.359375       0.328125                  \n",
      "\u001b[J20          1.11379     0.339844       0.332031                  \n",
      "\u001b[J20          1.11379     0.339844       0.332031                  \n",
      "\u001b[J21          1.10253     0.339844       0.320312                  \n",
      "\u001b[J21          1.10253     0.339844       0.320312                  \n",
      "\u001b[J22          1.09489     0.359375       0.335938                  \n",
      "\u001b[J22          1.09489     0.359375       0.335938                  \n",
      "\u001b[J23          1.10667     0.34375        0.324219                  \n",
      "\u001b[J23          1.10667     0.34375        0.324219                  \n",
      "\u001b[J24          1.09909     0.355469       0.332031                  \n",
      "\u001b[J24          1.09909     0.355469       0.332031                  \n",
      "\u001b[J25          1.10254     0.359375       0.328125                  \n",
      "\u001b[J25          1.10254     0.359375       0.328125                  \n",
      "\u001b[J26          1.10867     0.308594       0.328125                  \n",
      "\u001b[J26          1.10867     0.308594       0.328125                  \n"
     ]
    },
    {
     "ename": "KeyboardInterrupt",
     "evalue": "",
     "output_type": "error",
     "traceback": [
      "\u001b[0;31m\u001b[0m",
      "\u001b[0;31mKeyboardInterrupt\u001b[0mTraceback (most recent call last)",
      "\u001b[0;32m<ipython-input-694-3287ea1d3afc>\u001b[0m in \u001b[0;36m<module>\u001b[0;34m()\u001b[0m\n\u001b[0;32m----> 1\u001b[0;31m \u001b[0mtrainer\u001b[0m\u001b[0;34m.\u001b[0m\u001b[0mrun\u001b[0m\u001b[0;34m(\u001b[0m\u001b[0;34m)\u001b[0m\u001b[0;34m\u001b[0m\u001b[0m\n\u001b[0m",
      "\u001b[0;32m/Users/thomaseffland/.virtualenvs/research/lib/python2.7/site-packages/chainer/training/trainer.pyc\u001b[0m in \u001b[0;36mrun\u001b[0;34m(self)\u001b[0m\n\u001b[1;32m    296\u001b[0m                     \u001b[0;32mfor\u001b[0m \u001b[0mname\u001b[0m\u001b[0;34m,\u001b[0m \u001b[0mentry\u001b[0m \u001b[0;32min\u001b[0m \u001b[0mextensions\u001b[0m\u001b[0;34m:\u001b[0m\u001b[0;34m\u001b[0m\u001b[0m\n\u001b[1;32m    297\u001b[0m                         \u001b[0;32mif\u001b[0m \u001b[0mentry\u001b[0m\u001b[0;34m.\u001b[0m\u001b[0mtrigger\u001b[0m\u001b[0;34m(\u001b[0m\u001b[0mself\u001b[0m\u001b[0;34m)\u001b[0m\u001b[0;34m:\u001b[0m\u001b[0;34m\u001b[0m\u001b[0m\n\u001b[0;32m--> 298\u001b[0;31m                             \u001b[0mentry\u001b[0m\u001b[0;34m.\u001b[0m\u001b[0mextension\u001b[0m\u001b[0;34m(\u001b[0m\u001b[0mself\u001b[0m\u001b[0;34m)\u001b[0m\u001b[0;34m\u001b[0m\u001b[0m\n\u001b[0m\u001b[1;32m    299\u001b[0m         \u001b[0;32mfinally\u001b[0m\u001b[0;34m:\u001b[0m\u001b[0;34m\u001b[0m\u001b[0m\n\u001b[1;32m    300\u001b[0m             \u001b[0;32mfor\u001b[0m \u001b[0m_\u001b[0m\u001b[0;34m,\u001b[0m \u001b[0mentry\u001b[0m \u001b[0;32min\u001b[0m \u001b[0mextensions\u001b[0m\u001b[0;34m:\u001b[0m\u001b[0;34m\u001b[0m\u001b[0m\n",
      "\u001b[0;32mactivation_monitor.py\u001b[0m in \u001b[0;36m__call__\u001b[0;34m(self, trainer)\u001b[0m\n",
      "\u001b[0;32mactivation_monitor.py\u001b[0m in \u001b[0;36m_report_param_on_link\u001b[0;34m(self, param, link, name)\u001b[0m\n",
      "\u001b[0;32m/Users/thomaseffland/.virtualenvs/research/lib/python2.7/site-packages/numpy/lib/function_base.pyc\u001b[0m in \u001b[0;36mhistogram\u001b[0;34m(a, bins, range, normed, weights, density)\u001b[0m\n\u001b[1;32m    788\u001b[0m         \u001b[0;32mif\u001b[0m \u001b[0mweights\u001b[0m \u001b[0;32mis\u001b[0m \u001b[0mNone\u001b[0m\u001b[0;34m:\u001b[0m\u001b[0;34m\u001b[0m\u001b[0m\n\u001b[1;32m    789\u001b[0m             \u001b[0;32mfor\u001b[0m \u001b[0mi\u001b[0m \u001b[0;32min\u001b[0m \u001b[0marange\u001b[0m\u001b[0;34m(\u001b[0m\u001b[0;36m0\u001b[0m\u001b[0;34m,\u001b[0m \u001b[0mlen\u001b[0m\u001b[0;34m(\u001b[0m\u001b[0ma\u001b[0m\u001b[0;34m)\u001b[0m\u001b[0;34m,\u001b[0m \u001b[0mBLOCK\u001b[0m\u001b[0;34m)\u001b[0m\u001b[0;34m:\u001b[0m\u001b[0;34m\u001b[0m\u001b[0m\n\u001b[0;32m--> 790\u001b[0;31m                 \u001b[0msa\u001b[0m \u001b[0;34m=\u001b[0m \u001b[0msort\u001b[0m\u001b[0;34m(\u001b[0m\u001b[0ma\u001b[0m\u001b[0;34m[\u001b[0m\u001b[0mi\u001b[0m\u001b[0;34m:\u001b[0m\u001b[0mi\u001b[0m\u001b[0;34m+\u001b[0m\u001b[0mBLOCK\u001b[0m\u001b[0;34m]\u001b[0m\u001b[0;34m)\u001b[0m\u001b[0;34m\u001b[0m\u001b[0m\n\u001b[0m\u001b[1;32m    791\u001b[0m                 n += np.r_[sa.searchsorted(bins[:-1], 'left'),\n\u001b[1;32m    792\u001b[0m                            sa.searchsorted(bins[-1], 'right')]\n",
      "\u001b[0;32m/Users/thomaseffland/.virtualenvs/research/lib/python2.7/site-packages/numpy/core/fromnumeric.pyc\u001b[0m in \u001b[0;36msort\u001b[0;34m(a, axis, kind, order)\u001b[0m\n\u001b[1;32m    820\u001b[0m     \u001b[0;32melse\u001b[0m\u001b[0;34m:\u001b[0m\u001b[0;34m\u001b[0m\u001b[0m\n\u001b[1;32m    821\u001b[0m         \u001b[0ma\u001b[0m \u001b[0;34m=\u001b[0m \u001b[0masanyarray\u001b[0m\u001b[0;34m(\u001b[0m\u001b[0ma\u001b[0m\u001b[0;34m)\u001b[0m\u001b[0;34m.\u001b[0m\u001b[0mcopy\u001b[0m\u001b[0;34m(\u001b[0m\u001b[0morder\u001b[0m\u001b[0;34m=\u001b[0m\u001b[0;34m\"K\"\u001b[0m\u001b[0;34m)\u001b[0m\u001b[0;34m\u001b[0m\u001b[0m\n\u001b[0;32m--> 822\u001b[0;31m     \u001b[0ma\u001b[0m\u001b[0;34m.\u001b[0m\u001b[0msort\u001b[0m\u001b[0;34m(\u001b[0m\u001b[0maxis\u001b[0m\u001b[0;34m=\u001b[0m\u001b[0maxis\u001b[0m\u001b[0;34m,\u001b[0m \u001b[0mkind\u001b[0m\u001b[0;34m=\u001b[0m\u001b[0mkind\u001b[0m\u001b[0;34m,\u001b[0m \u001b[0morder\u001b[0m\u001b[0;34m=\u001b[0m\u001b[0morder\u001b[0m\u001b[0;34m)\u001b[0m\u001b[0;34m\u001b[0m\u001b[0m\n\u001b[0m\u001b[1;32m    823\u001b[0m     \u001b[0;32mreturn\u001b[0m \u001b[0ma\u001b[0m\u001b[0;34m\u001b[0m\u001b[0m\n\u001b[1;32m    824\u001b[0m \u001b[0;34m\u001b[0m\u001b[0m\n",
      "\u001b[0;31mKeyboardInterrupt\u001b[0m: "
     ]
    }
   ],
   "source": [
    "trainer.run()"
   ]
  },
  {
   "cell_type": "code",
   "execution_count": null,
   "metadata": {
    "collapsed": true
   },
   "outputs": [],
   "source": [
    "ls "
   ]
  },
  {
   "cell_type": "markdown",
   "metadata": {},
   "source": [
    "# TODO\n",
    "\n",
    "* [X] Compute micro, macro, and class-wise f1s\n",
    "* [X] Report training and validation metrics\n",
    "* [X] Report activation histograms\n",
    "* [X] Report activation means, variances\n",
    "* [X] Report gradient _update_ histograms\n",
    "* [X] Report gradient _update_ means, variances\n",
    "\n",
    "\n",
    "* [ ] Checkpoint model and be able to restore model from checkpoint\n",
    "* [ ] Visualize the training as it progresses\n",
    "* [ ] Batch out multiple experiments\n",
    "* [ ] Post output to results folder that is timestamped\n",
    "* [ ] Output config to results folder\n",
    "* [ ] \n",
    "\n",
    "Need to be able to:\n",
    "* Run experiments but exchange architectures\n",
    "* Reproduce all experiments\n",
    "* Analyze results, diagnose optimization and data errors"
   ]
  },
  {
   "cell_type": "code",
   "execution_count": 593,
   "metadata": {
    "ExecuteTime": {
     "end_time": "2017-05-28T20:57:14.795314Z",
     "start_time": "2017-05-28T20:57:14.775892Z"
    },
    "collapsed": true
   },
   "outputs": [],
   "source": [
    "main_loss = [l['main/accuracy'] for l in logger._log]"
   ]
  },
  {
   "cell_type": "code",
   "execution_count": 607,
   "metadata": {
    "ExecuteTime": {
     "end_time": "2017-05-28T21:26:29.836858Z",
     "start_time": "2017-05-28T21:26:29.817465Z"
    },
    "collapsed": true
   },
   "outputs": [],
   "source": [
    "from IPython.display import HTML"
   ]
  },
  {
   "cell_type": "code",
   "execution_count": 633,
   "metadata": {
    "ExecuteTime": {
     "end_time": "2017-05-28T21:45:00.997258Z",
     "start_time": "2017-05-28T21:45:00.977599Z"
    },
    "collapsed": true
   },
   "outputs": [],
   "source": [
    "css = \"\"\"\n",
    "h3 {\n",
    "    color:grey;\n",
    "}\n",
    "\"\"\""
   ]
  },
  {
   "cell_type": "code",
   "execution_count": 638,
   "metadata": {
    "ExecuteTime": {
     "end_time": "2017-05-28T21:47:05.414462Z",
     "start_time": "2017-05-28T21:47:05.394987Z"
    },
    "collapsed": true
   },
   "outputs": [],
   "source": [
    "viz = \"\"\"\n",
    "d3.select('#main-viz')\n",
    "    .html('d3 inserted this!')\n",
    "\"\"\""
   ]
  },
  {
   "cell_type": "code",
   "execution_count": 641,
   "metadata": {
    "ExecuteTime": {
     "end_time": "2017-05-28T21:59:54.774039Z",
     "start_time": "2017-05-28T21:59:54.752476Z"
    }
   },
   "outputs": [
    {
     "data": {
      "text/html": [
       "<!doctype html>\n",
       "<head>\n",
       "    <script src=\"http://d3js.org/d3.v4.min.js\"></script>\n",
       "</head>\n",
       "<body>\n",
       "    <h3>This is a visualization</h3>\n",
       "    <div id=\"viz\"></div>\n",
       "    <script>d3.select('.viz').html('<h4>D3 put this in</h4>')</script>\n",
       "</body>"
      ],
      "text/plain": [
       "<IPython.core.display.HTML object>"
      ]
     },
     "execution_count": 641,
     "metadata": {},
     "output_type": "execute_result"
    }
   ],
   "source": [
    "HTML(open('vis_test.html').read())"
   ]
  },
  {
   "cell_type": "code",
   "execution_count": 640,
   "metadata": {
    "ExecuteTime": {
     "end_time": "2017-05-28T21:47:07.992666Z",
     "start_time": "2017-05-28T21:47:07.971337Z"
    }
   },
   "outputs": [
    {
     "data": {
      "text/html": [
       "\n",
       "<style> \n",
       "h3 {\n",
       "    color:grey;\n",
       "}\n",
       " </style>\n",
       "<div> <h3> This is a visualization </h3> </div>\n",
       "<div id=\"main-viz\"></div>\n",
       "<script> \n",
       "d3.select('#main-viz')\n",
       "    .html('d3 inserted this!')\n",
       " </script>\n"
      ],
      "text/plain": [
       "<IPython.core.display.HTML object>"
      ]
     },
     "execution_count": 640,
     "metadata": {},
     "output_type": "execute_result"
    }
   ],
   "source": [
    "html_str = \"\"\"\n",
    "<style> {css} </style>\n",
    "<div> <h3> This is a visualization </h3> </div>\n",
    "<div id=\"main-viz\"></div>\n",
    "<script> {viz_js} </script>\n",
    "\"\"\"\n",
    "HTML(html_str.format(css=css, viz_js=viz))"
   ]
  },
  {
   "cell_type": "markdown",
   "metadata": {},
   "source": [
    "[How to embed d3 in jupyter](http://blog.thedataincubator.com/2015/08/embedding-d3-in-an-ipython-notebook/)"
   ]
  },
  {
   "cell_type": "code",
   "execution_count": 606,
   "metadata": {
    "ExecuteTime": {
     "end_time": "2017-05-28T21:03:33.483865Z",
     "start_time": "2017-05-28T21:03:33.462254Z"
    }
   },
   "outputs": [
    {
     "data": {
      "application/javascript": [
       "require.config({\n",
       "  paths: {\n",
       "      d3: '//cdnjs.cloudflare.com/ajax/libs/d3/3.4.8/d3.min'\n",
       "  }\n",
       "});\n",
       "var margin = {top: 20, right: 10, bottom: 20, left: 10};\n",
       "var width = 960 - margin.left - margin.right,\n",
       "    height = 500 - margin.top - margin.bottom;\n",
       "var svg = d3.select(\"element\").append(\"svg\")\n",
       "    .attr(\"width\", width + margin.left + margin.right)\n",
       "    .attr(\"height\", height + margin.top + margin.bottom)\n",
       "  .append(\"g\")\n",
       "    .attr(\"transform\", \"translate(\" + margin.left + \",\" + margin.top + \")\")\n",
       "var x = d3.scale.linear()\n",
       "    .range([0, width]);\n",
       "var y = d3.scale.linear()\n",
       "    .range([height, 0]);"
      ],
      "text/plain": [
       "<IPython.core.display.Javascript object>"
      ]
     },
     "metadata": {},
     "output_type": "display_data"
    }
   ],
   "source": [
    "%%javascript\n",
    "require.config({\n",
    "  paths: {\n",
    "      d3: '//cdnjs.cloudflare.com/ajax/libs/d3/3.4.8/d3.min'\n",
    "  }\n",
    "});\n",
    "var margin = {top: 20, right: 10, bottom: 20, left: 10};\n",
    "var width = 960 - margin.left - margin.right,\n",
    "    height = 500 - margin.top - margin.bottom;\n",
    "var svg = d3.select(\"element\").append(\"svg\")\n",
    "    .attr(\"width\", width + margin.left + margin.right)\n",
    "    .attr(\"height\", height + margin.top + margin.bottom)\n",
    "  .append(\"g\")\n",
    "    .attr(\"transform\", \"translate(\" + margin.left + \",\" + margin.top + \")\")\n",
    "var x = d3.scale.linear()\n",
    "    .range([0, width]);\n",
    "var y = d3.scale.linear()\n",
    "    .range([height, 0]);"
   ]
  },
  {
   "cell_type": "code",
   "execution_count": 676,
   "metadata": {
    "ExecuteTime": {
     "end_time": "2017-05-30T03:03:47.465985Z",
     "start_time": "2017-05-30T03:03:47.444036Z"
    }
   },
   "outputs": [
    {
     "data": {
      "text/plain": [
       "array([[ 0.,  0.,  0.,  0.],\n",
       "       [ 0.,  0.,  0.,  0.],\n",
       "       [ 0.,  0.,  0.,  0.],\n",
       "       [ 0.,  0.,  0.,  0.]])"
      ]
     },
     "execution_count": 676,
     "metadata": {},
     "output_type": "execute_result"
    }
   ],
   "source": [
    "np.zeros((4,4))"
   ]
  },
  {
   "cell_type": "code",
   "execution_count": 700,
   "metadata": {
    "ExecuteTime": {
     "end_time": "2017-05-31T15:58:28.440577Z",
     "start_time": "2017-05-31T15:58:26.346018Z"
    }
   },
   "outputs": [
    {
     "name": "stdout",
     "output_type": "stream",
     "text": [
      "Collecting sh\n",
      "  Downloading sh-1.12.13-py2.py3-none-any.whl\n",
      "Installing collected packages: sh\n",
      "Successfully installed sh-1.12.13\n"
     ]
    }
   ],
   "source": [
    "!pip install sh"
   ]
  },
  {
   "cell_type": "code",
   "execution_count": 701,
   "metadata": {
    "ExecuteTime": {
     "end_time": "2017-05-31T15:59:07.890677Z",
     "start_time": "2017-05-31T15:59:07.660035Z"
    },
    "collapsed": true
   },
   "outputs": [],
   "source": [
    "import sh\n",
    "sh.git.commit('-am', 'auto commit tracked files')\n",
    "commit_hash = sh.git('rev-parse', 'HEAD').strip()"
   ]
  },
  {
   "cell_type": "code",
   "execution_count": 702,
   "metadata": {
    "ExecuteTime": {
     "end_time": "2017-05-31T15:59:11.286466Z",
     "start_time": "2017-05-31T15:59:11.261324Z"
    }
   },
   "outputs": [
    {
     "data": {
      "text/plain": [
       "u'a3b7c1a182f2b804034694b4e000b7eb650c51f0'"
      ]
     },
     "execution_count": 702,
     "metadata": {},
     "output_type": "execute_result"
    }
   ],
   "source": [
    "o"
   ]
  },
  {
   "cell_type": "code",
   "execution_count": 703,
   "metadata": {
    "ExecuteTime": {
     "end_time": "2017-05-31T15:59:17.105976Z",
     "start_time": "2017-05-31T15:59:16.928845Z"
    }
   },
   "outputs": [
    {
     "name": "stdout",
     "output_type": "stream",
     "text": [
      "On branch master\r\n",
      "Untracked files:\r\n",
      "  (use \"git add <file>...\" to include in what will be committed)\r\n",
      "\r\n",
      "\t\u001b[31m.gitignore\u001b[m\r\n",
      "\t\u001b[31mchainer_bw/converter.py\u001b[m\r\n",
      "\t\u001b[31mmodels/cbow.py\u001b[m\r\n",
      "\t\u001b[31mnew_experiment.py\u001b[m\r\n",
      "\t\u001b[31mresult_test/\u001b[m\r\n",
      "\t\u001b[31mresults/\u001b[m\r\n",
      "\t\u001b[31mvis_test.html\u001b[m\r\n",
      "\r\n",
      "nothing added to commit but untracked files present (use \"git add\" to track)\r\n"
     ]
    }
   ],
   "source": [
    "!git status"
   ]
  },
  {
   "cell_type": "code",
   "execution_count": 706,
   "metadata": {
    "ExecuteTime": {
     "end_time": "2017-05-31T16:16:23.674480Z",
     "start_time": "2017-05-31T16:16:23.653031Z"
    }
   },
   "outputs": [
    {
     "data": {
      "text/plain": [
       "False"
      ]
     },
     "execution_count": 706,
     "metadata": {},
     "output_type": "execute_result"
    }
   ],
   "source": [
    "'experiment_config.yml'.endswith('.yaml')"
   ]
  },
  {
   "cell_type": "code",
   "execution_count": 711,
   "metadata": {
    "ExecuteTime": {
     "end_time": "2017-05-31T16:35:19.918934Z",
     "start_time": "2017-05-31T16:35:19.898814Z"
    }
   },
   "outputs": [],
   "source": [
    "import logging\n",
    "logging.basicConfig(level = logging.INFO, \n",
    "    format='[%(levelname)s] %(asctime)s: :%(name)s:line %(lineno)d: %(message)s')\n",
    "logger = logging.getLogger(__name__)"
   ]
  },
  {
   "cell_type": "code",
   "execution_count": 712,
   "metadata": {
    "ExecuteTime": {
     "end_time": "2017-05-31T16:35:21.285070Z",
     "start_time": "2017-05-31T16:35:21.263916Z"
    }
   },
   "outputs": [
    {
     "name": "stderr",
     "output_type": "stream",
     "text": [
      "INFO:__main__:yo\n"
     ]
    }
   ],
   "source": [
    "logger.info('yo')"
   ]
  },
  {
   "cell_type": "code",
   "execution_count": 715,
   "metadata": {
    "ExecuteTime": {
     "end_time": "2017-05-31T16:50:58.078251Z",
     "start_time": "2017-05-31T16:50:58.044464Z"
    }
   },
   "outputs": [
    {
     "ename": "AttributeError",
     "evalue": "'module' object has no attribute 'pwd'",
     "output_type": "error",
     "traceback": [
      "\u001b[0;31m\u001b[0m",
      "\u001b[0;31mAttributeError\u001b[0mTraceback (most recent call last)",
      "\u001b[0;32m<ipython-input-715-1159ac189f7b>\u001b[0m in \u001b[0;36m<module>\u001b[0;34m()\u001b[0m\n\u001b[0;32m----> 1\u001b[0;31m \u001b[0mosp\u001b[0m\u001b[0;34m.\u001b[0m\u001b[0mpwd\u001b[0m\u001b[0;34m(\u001b[0m\u001b[0;34m)\u001b[0m\u001b[0;34m\u001b[0m\u001b[0m\n\u001b[0m",
      "\u001b[0;31mAttributeError\u001b[0m: 'module' object has no attribute 'pwd'"
     ]
    }
   ],
   "source": [
    "osp.pwd()"
   ]
  },
  {
   "cell_type": "code",
   "execution_count": 717,
   "metadata": {
    "ExecuteTime": {
     "end_time": "2017-05-31T16:54:20.578460Z",
     "start_time": "2017-05-31T16:54:20.557455Z"
    }
   },
   "outputs": [],
   "source": [
    "yaml.dump({'test':'test'}, open('test.yaml','w'))"
   ]
  },
  {
   "cell_type": "code",
   "execution_count": 718,
   "metadata": {
    "ExecuteTime": {
     "end_time": "2017-05-31T16:54:25.739034Z",
     "start_time": "2017-05-31T16:54:25.571943Z"
    }
   },
   "outputs": [
    {
     "name": "stdout",
     "output_type": "stream",
     "text": [
      "{test: test}\r\n"
     ]
    }
   ],
   "source": [
    "cat test.yaml"
   ]
  },
  {
   "cell_type": "code",
   "execution_count": null,
   "metadata": {
    "collapsed": true
   },
   "outputs": [],
   "source": []
  }
 ],
 "metadata": {
  "kernelspec": {
   "display_name": "Python 2",
   "language": "python",
   "name": "python2"
  },
  "language_info": {
   "codemirror_mode": {
    "name": "ipython",
    "version": 2
   },
   "file_extension": ".py",
   "mimetype": "text/x-python",
   "name": "python",
   "nbconvert_exporter": "python",
   "pygments_lexer": "ipython2",
   "version": "2.7.10"
  },
  "toc": {
   "colors": {
    "hover_highlight": "#DAA520",
    "running_highlight": "#FF0000",
    "selected_highlight": "#FFD700"
   },
   "moveMenuLeft": true,
   "nav_menu": {
    "height": "12px",
    "width": "252px"
   },
   "navigate_menu": true,
   "number_sections": true,
   "sideBar": true,
   "threshold": 4,
   "toc_cell": false,
   "toc_section_display": "block",
   "toc_window_display": false,
   "widenNotebook": false
  },
  "varInspector": {
   "cols": {
    "lenName": 16,
    "lenType": 16,
    "lenVar": 40
   },
   "kernels_config": {
    "python": {
     "delete_cmd_postfix": "",
     "delete_cmd_prefix": "del ",
     "library": "var_list.py",
     "varRefreshCmd": "print(var_dic_list())"
    },
    "r": {
     "delete_cmd_postfix": ") ",
     "delete_cmd_prefix": "rm(",
     "library": "var_list.r",
     "varRefreshCmd": "cat(var_dic_list()) "
    }
   },
   "position": {
    "height": "144px",
    "left": "904px",
    "right": "20px",
    "top": "126px",
    "width": "350px"
   },
   "types_to_exclude": [
    "module",
    "function",
    "builtin_function_or_method",
    "instance",
    "_Feature"
   ],
   "window_display": false
  }
 },
 "nbformat": 4,
 "nbformat_minor": 2
}
